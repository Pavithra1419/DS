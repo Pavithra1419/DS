{
 "cells": [
  {
   "cell_type": "code",
   "execution_count": 25,
   "metadata": {
    "scrolled": true
   },
   "outputs": [
    {
     "data": {
      "text/html": [
       "<div>\n",
       "<style scoped>\n",
       "    .dataframe tbody tr th:only-of-type {\n",
       "        vertical-align: middle;\n",
       "    }\n",
       "\n",
       "    .dataframe tbody tr th {\n",
       "        vertical-align: top;\n",
       "    }\n",
       "\n",
       "    .dataframe thead th {\n",
       "        text-align: right;\n",
       "    }\n",
       "</style>\n",
       "<table border=\"1\" class=\"dataframe\">\n",
       "  <thead>\n",
       "    <tr style=\"text-align: right;\">\n",
       "      <th></th>\n",
       "      <th>Pregnancies</th>\n",
       "      <th>Glucose</th>\n",
       "      <th>BloodPressure</th>\n",
       "      <th>SkinThickness</th>\n",
       "      <th>Insulin</th>\n",
       "      <th>BMI</th>\n",
       "      <th>DiabetesPedigreeFunction</th>\n",
       "      <th>Age</th>\n",
       "      <th>Outcome</th>\n",
       "    </tr>\n",
       "  </thead>\n",
       "  <tbody>\n",
       "    <tr>\n",
       "      <th>0</th>\n",
       "      <td>6</td>\n",
       "      <td>148</td>\n",
       "      <td>72</td>\n",
       "      <td>35</td>\n",
       "      <td>0</td>\n",
       "      <td>33.6</td>\n",
       "      <td>0.627</td>\n",
       "      <td>50</td>\n",
       "      <td>1</td>\n",
       "    </tr>\n",
       "    <tr>\n",
       "      <th>1</th>\n",
       "      <td>1</td>\n",
       "      <td>85</td>\n",
       "      <td>66</td>\n",
       "      <td>29</td>\n",
       "      <td>0</td>\n",
       "      <td>26.6</td>\n",
       "      <td>0.351</td>\n",
       "      <td>31</td>\n",
       "      <td>0</td>\n",
       "    </tr>\n",
       "    <tr>\n",
       "      <th>2</th>\n",
       "      <td>8</td>\n",
       "      <td>183</td>\n",
       "      <td>64</td>\n",
       "      <td>0</td>\n",
       "      <td>0</td>\n",
       "      <td>23.3</td>\n",
       "      <td>0.672</td>\n",
       "      <td>32</td>\n",
       "      <td>1</td>\n",
       "    </tr>\n",
       "    <tr>\n",
       "      <th>3</th>\n",
       "      <td>1</td>\n",
       "      <td>89</td>\n",
       "      <td>66</td>\n",
       "      <td>23</td>\n",
       "      <td>94</td>\n",
       "      <td>28.1</td>\n",
       "      <td>0.167</td>\n",
       "      <td>21</td>\n",
       "      <td>0</td>\n",
       "    </tr>\n",
       "    <tr>\n",
       "      <th>4</th>\n",
       "      <td>0</td>\n",
       "      <td>137</td>\n",
       "      <td>40</td>\n",
       "      <td>35</td>\n",
       "      <td>168</td>\n",
       "      <td>43.1</td>\n",
       "      <td>2.288</td>\n",
       "      <td>33</td>\n",
       "      <td>1</td>\n",
       "    </tr>\n",
       "  </tbody>\n",
       "</table>\n",
       "</div>"
      ],
      "text/plain": [
       "   Pregnancies  Glucose  BloodPressure  SkinThickness  Insulin   BMI  \\\n",
       "0            6      148             72             35        0  33.6   \n",
       "1            1       85             66             29        0  26.6   \n",
       "2            8      183             64              0        0  23.3   \n",
       "3            1       89             66             23       94  28.1   \n",
       "4            0      137             40             35      168  43.1   \n",
       "\n",
       "   DiabetesPedigreeFunction  Age  Outcome  \n",
       "0                     0.627   50        1  \n",
       "1                     0.351   31        0  \n",
       "2                     0.672   32        1  \n",
       "3                     0.167   21        0  \n",
       "4                     2.288   33        1  "
      ]
     },
     "execution_count": 25,
     "metadata": {},
     "output_type": "execute_result"
    }
   ],
   "source": [
    "import numpy as nmp\n",
    "import pandas as pnd\n",
    "from matplotlib import pyplot as pltt\n",
    "#Load data set and display first few observations\n",
    "dataset = pd.read_csv(\"Diabetes.csv\")\n",
    "dataset.head()"
   ]
  },
  {
   "cell_type": "code",
   "execution_count": 26,
   "metadata": {},
   "outputs": [
    {
     "data": {
      "text/html": [
       "<div>\n",
       "<style scoped>\n",
       "    .dataframe tbody tr th:only-of-type {\n",
       "        vertical-align: middle;\n",
       "    }\n",
       "\n",
       "    .dataframe tbody tr th {\n",
       "        vertical-align: top;\n",
       "    }\n",
       "\n",
       "    .dataframe thead th {\n",
       "        text-align: right;\n",
       "    }\n",
       "</style>\n",
       "<table border=\"1\" class=\"dataframe\">\n",
       "  <thead>\n",
       "    <tr style=\"text-align: right;\">\n",
       "      <th></th>\n",
       "      <th>Pregnancies</th>\n",
       "      <th>Glucose</th>\n",
       "      <th>BloodPressure</th>\n",
       "      <th>SkinThickness</th>\n",
       "      <th>Insulin</th>\n",
       "      <th>BMI</th>\n",
       "      <th>DiabetesPedigreeFunction</th>\n",
       "      <th>Age</th>\n",
       "      <th>Outcome</th>\n",
       "    </tr>\n",
       "  </thead>\n",
       "  <tbody>\n",
       "    <tr>\n",
       "      <th>count</th>\n",
       "      <td>768.000000</td>\n",
       "      <td>768.000000</td>\n",
       "      <td>768.000000</td>\n",
       "      <td>768.000000</td>\n",
       "      <td>768.000000</td>\n",
       "      <td>768.000000</td>\n",
       "      <td>768.000000</td>\n",
       "      <td>768.000000</td>\n",
       "      <td>768.000000</td>\n",
       "    </tr>\n",
       "    <tr>\n",
       "      <th>mean</th>\n",
       "      <td>3.845052</td>\n",
       "      <td>120.894531</td>\n",
       "      <td>69.105469</td>\n",
       "      <td>20.536458</td>\n",
       "      <td>79.799479</td>\n",
       "      <td>31.992578</td>\n",
       "      <td>0.471876</td>\n",
       "      <td>33.240885</td>\n",
       "      <td>0.348958</td>\n",
       "    </tr>\n",
       "    <tr>\n",
       "      <th>std</th>\n",
       "      <td>3.369578</td>\n",
       "      <td>31.972618</td>\n",
       "      <td>19.355807</td>\n",
       "      <td>15.952218</td>\n",
       "      <td>115.244002</td>\n",
       "      <td>7.884160</td>\n",
       "      <td>0.331329</td>\n",
       "      <td>11.760232</td>\n",
       "      <td>0.476951</td>\n",
       "    </tr>\n",
       "    <tr>\n",
       "      <th>min</th>\n",
       "      <td>0.000000</td>\n",
       "      <td>0.000000</td>\n",
       "      <td>0.000000</td>\n",
       "      <td>0.000000</td>\n",
       "      <td>0.000000</td>\n",
       "      <td>0.000000</td>\n",
       "      <td>0.078000</td>\n",
       "      <td>21.000000</td>\n",
       "      <td>0.000000</td>\n",
       "    </tr>\n",
       "    <tr>\n",
       "      <th>25%</th>\n",
       "      <td>1.000000</td>\n",
       "      <td>99.000000</td>\n",
       "      <td>62.000000</td>\n",
       "      <td>0.000000</td>\n",
       "      <td>0.000000</td>\n",
       "      <td>27.300000</td>\n",
       "      <td>0.243750</td>\n",
       "      <td>24.000000</td>\n",
       "      <td>0.000000</td>\n",
       "    </tr>\n",
       "    <tr>\n",
       "      <th>50%</th>\n",
       "      <td>3.000000</td>\n",
       "      <td>117.000000</td>\n",
       "      <td>72.000000</td>\n",
       "      <td>23.000000</td>\n",
       "      <td>30.500000</td>\n",
       "      <td>32.000000</td>\n",
       "      <td>0.372500</td>\n",
       "      <td>29.000000</td>\n",
       "      <td>0.000000</td>\n",
       "    </tr>\n",
       "    <tr>\n",
       "      <th>75%</th>\n",
       "      <td>6.000000</td>\n",
       "      <td>140.250000</td>\n",
       "      <td>80.000000</td>\n",
       "      <td>32.000000</td>\n",
       "      <td>127.250000</td>\n",
       "      <td>36.600000</td>\n",
       "      <td>0.626250</td>\n",
       "      <td>41.000000</td>\n",
       "      <td>1.000000</td>\n",
       "    </tr>\n",
       "    <tr>\n",
       "      <th>max</th>\n",
       "      <td>17.000000</td>\n",
       "      <td>199.000000</td>\n",
       "      <td>122.000000</td>\n",
       "      <td>99.000000</td>\n",
       "      <td>846.000000</td>\n",
       "      <td>67.100000</td>\n",
       "      <td>2.420000</td>\n",
       "      <td>81.000000</td>\n",
       "      <td>1.000000</td>\n",
       "    </tr>\n",
       "  </tbody>\n",
       "</table>\n",
       "</div>"
      ],
      "text/plain": [
       "       Pregnancies     Glucose  BloodPressure  SkinThickness     Insulin  \\\n",
       "count   768.000000  768.000000     768.000000     768.000000  768.000000   \n",
       "mean      3.845052  120.894531      69.105469      20.536458   79.799479   \n",
       "std       3.369578   31.972618      19.355807      15.952218  115.244002   \n",
       "min       0.000000    0.000000       0.000000       0.000000    0.000000   \n",
       "25%       1.000000   99.000000      62.000000       0.000000    0.000000   \n",
       "50%       3.000000  117.000000      72.000000      23.000000   30.500000   \n",
       "75%       6.000000  140.250000      80.000000      32.000000  127.250000   \n",
       "max      17.000000  199.000000     122.000000      99.000000  846.000000   \n",
       "\n",
       "              BMI  DiabetesPedigreeFunction         Age     Outcome  \n",
       "count  768.000000                768.000000  768.000000  768.000000  \n",
       "mean    31.992578                  0.471876   33.240885    0.348958  \n",
       "std      7.884160                  0.331329   11.760232    0.476951  \n",
       "min      0.000000                  0.078000   21.000000    0.000000  \n",
       "25%     27.300000                  0.243750   24.000000    0.000000  \n",
       "50%     32.000000                  0.372500   29.000000    0.000000  \n",
       "75%     36.600000                  0.626250   41.000000    1.000000  \n",
       "max     67.100000                  2.420000   81.000000    1.000000  "
      ]
     },
     "execution_count": 26,
     "metadata": {},
     "output_type": "execute_result"
    }
   ],
   "source": [
    "# Summary statistics (mean, stdev, min, max)\n",
    "dataset.describe()"
   ]
  },
  {
   "cell_type": "code",
   "execution_count": 27,
   "metadata": {},
   "outputs": [],
   "source": [
    "# Define categorical outcome \n",
    "y1 = dataset.iloc[:,8]\n",
    "# Define features\n",
    "x1 = dataset.iloc[:,0:8]\n",
    "# Standardize feature space to have mean 0 and variance 1\n",
    "x_std = (x1-nmp.mean(x1,axis = 0))/nmp.std(x1,axis = 0)"
   ]
  },
  {
   "cell_type": "code",
   "execution_count": 28,
   "metadata": {},
   "outputs": [
    {
     "name": "stdout",
     "output_type": "stream",
     "text": [
      "Covariance matrix of x1: \n",
      "[[ 1.00130378  0.12962746  0.14146618 -0.08177826 -0.07363049  0.01770615\n",
      "  -0.03356638  0.54505093]\n",
      " [ 0.12962746  1.00130378  0.15278853  0.05740263  0.33178913  0.2213593\n",
      "   0.13751636  0.26385788]\n",
      " [ 0.14146618  0.15278853  1.00130378  0.2076409   0.08904933  0.2821727\n",
      "   0.04131875  0.23984024]\n",
      " [-0.08177826  0.05740263  0.2076409   1.00130378  0.43735204  0.39308503\n",
      "   0.18416737 -0.11411885]\n",
      " [-0.07363049  0.33178913  0.08904933  0.43735204  1.00130378  0.19811702\n",
      "   0.18531222 -0.04221793]\n",
      " [ 0.01770615  0.2213593   0.2821727   0.39308503  0.19811702  1.00130378\n",
      "   0.14083033  0.03628912]\n",
      " [-0.03356638  0.13751636  0.04131875  0.18416737  0.18531222  0.14083033\n",
      "   1.00130378  0.03360507]\n",
      " [ 0.54505093  0.26385788  0.23984024 -0.11411885 -0.04221793  0.03628912\n",
      "   0.03360507  1.00130378]]\n"
     ]
    }
   ],
   "source": [
    "#Find covariance matrix of x1\n",
    "# Obtaining covariance matrix for x1\n",
    "cov_matrix = nmp.cov(x_std, rowvar=False)\n",
    "#covariance matrix is 8x8 since there are 8 features\n",
    "print('Covariance matrix of x1: \\n%s' %cov_matrix)"
   ]
  },
  {
   "cell_type": "code",
   "execution_count": 29,
   "metadata": {},
   "outputs": [
    {
     "name": "stdout",
     "output_type": "stream",
     "text": [
      "Eigenvectors of Cov(x1): \n",
      "[[ 0.1284321   0.59378583  0.58879003  0.11784098 -0.19359817  0.47560573\n",
      "  -0.08069115  0.01308692]\n",
      " [ 0.39308257  0.17402908  0.06015291  0.45035526 -0.09416176 -0.46632804\n",
      "   0.40432871 -0.46792282]\n",
      " [ 0.36000261  0.18389207  0.19211793 -0.01129554  0.6341159  -0.32795306\n",
      "  -0.05598649  0.53549442]\n",
      " [ 0.43982428 -0.33196534 -0.28221253  0.5662838  -0.00958944  0.48786206\n",
      "  -0.03797608  0.2376738 ]\n",
      " [ 0.43502617 -0.25078106  0.13200992 -0.54862138  0.27065061  0.34693481\n",
      "   0.34994376 -0.33670893]\n",
      " [ 0.45194134 -0.1009598   0.03536644 -0.34151764 -0.68537218 -0.25320376\n",
      "  -0.05364595  0.36186463]\n",
      " [ 0.27061144 -0.122069    0.08609107 -0.00825873  0.08578409 -0.11981049\n",
      "  -0.8336801  -0.43318905]\n",
      " [ 0.19802707  0.62058853 -0.71208542 -0.21166198  0.03335717  0.10928996\n",
      "  -0.0712006  -0.07524755]]\n",
      "\n",
      "Eigenvalues of Cov(x1): \n",
      "[2.09711056 1.73346726 0.42036353 0.40498938 0.68351839 0.76333832\n",
      " 0.87667054 1.03097228]\n"
     ]
    }
   ],
   "source": [
    "#Obtain eigenvectors and eigenvalues\n",
    "eigenvalue, eigenvector, = np.linalg.eig(cov_matrix)\n",
    "# eigenvectors is a 8x8 matrix\n",
    "print('Eigenvectors of Cov(x1): \\n%s' %eigenvector)\n",
    "# eigenvalues is a 8x1 vector\n",
    "print('\\nEigenvalues of Cov(x1): \\n%s' %eigenvalue)"
   ]
  },
  {
   "cell_type": "code",
   "execution_count": 30,
   "metadata": {},
   "outputs": [
    {
     "name": "stdout",
     "output_type": "stream",
     "text": [
      "Eigenvalues in descending order: \n",
      "[2.0971105579945224, 1.7334672594471274, 1.0309722810083821, 0.8766705419094798, 0.7633383156496728, 0.6835183858447285, 0.4203635280495676, 0.40498937781489824]\n"
     ]
    }
   ],
   "source": [
    "#Sort eigenvalues in descending order\n",
    "eig_pair = [(eigenvalue[index], eigenvector[:,index]) for index in range(len(eigenvalue))]\n",
    "\n",
    "# Sort the (eigenvalue, eigenvector) pairs from highest to lowest with respect to eigenvalue\n",
    "eig_pair.sort()\n",
    "eig_pair.reverse()\n",
    "\n",
    "# Extract the descending ordered eigenvalues and eigenvectors\n",
    "eigvalue_sort = [eig_pair[index][0] for index in range(len(eigenvalue))]\n",
    "eigvector_sort = [eig_pair[index][1] for index in range(len(eigenvalue))]\n",
    "\n",
    "# Let's confirm our sorting worked, print out eigenvalues\n",
    "print('Eigenvalues in descending order: \\n%s' %eigvalue_sort)"
   ]
  },
  {
   "cell_type": "code",
   "execution_count": 31,
   "metadata": {},
   "outputs": [
    {
     "name": "stdout",
     "output_type": "stream",
     "text": [
      "Cumulative proportion of variance explained vector is: \n",
      "[0.26179749 0.47819876 0.60690249 0.71634362 0.81163667 0.89696522\n",
      " 0.94944224 1.        ]\n"
     ]
    },
    {
     "data": {
      "image/png": "[encoded data removed]",
      "text/plain": [
       "<Figure size 432x288 with 1 Axes>"
      ]
     },
     "metadata": {
      "needs_background": "light"
     },
     "output_type": "display_data"
    }
   ],
   "source": [
    "#Find cumulative variance of each principle component\n",
    "varcompsum = nmp.cumsum(eigvalue_sort)/sum(eigvalue_sort)\n",
    "#Show cumulative proportion of varaince with respect to components\n",
    "print(\"Cumulative proportion of variance explained vector is: \\n%s\" %varcompsum)\n",
    "# x-axis for number of principal components kept\n",
    "numcomp = range(1,len(eigvalue_sort)+1)\n",
    "#title\n",
    "plt.title('Cum. Prop. Variance Explain and Components Kept')\n",
    "#xlabel\n",
    "plt.xlabel('Principal Components')\n",
    "#ylabel\n",
    "plt.ylabel('Cum.Prop.Variance Expalined')\n",
    "#Scatter plot of cumulative variance explained and principal components \n",
    "plt.scatter(numcomp, varcompsum)\n",
    "#Show scattor plot\n",
    "plt.show()"
   ]
  },
  {
   "cell_type": "code",
   "execution_count": 32,
   "metadata": {},
   "outputs": [],
   "source": [
    "# Keep the first two principal components P_reduce is 8 x 2 matrix\n",
    "preduce = nmp.array(eigvector_sort[0:2]).transpose()\n",
    "projdata = nmp.dot(x_std,preduce)"
   ]
  },
  {
   "cell_type": "code",
   "execution_count": 33,
   "metadata": {},
   "outputs": [
    {
     "data": {
      "image/png": "[encoded data removed]",
      "text/plain": [
       "<Figure size 432x288 with 1 Axes>"
      ]
     },
     "metadata": {
      "needs_background": "light"
     },
     "output_type": "display_data"
    }
   ],
   "source": [
    "# Plot projected the data\n",
    "pos = pltt.scatter(projdata[:,0][y1 == 1], projdata[:,1][y1 == 1], color = \"red\")\n",
    "# Plot projected the data \n",
    "neg = pltt.scatter(projdata[:,0][y1 == 0], projdata[:,1][y1 == 0])\n",
    "#title\n",
    "pltt.title('PCA Dimensionality Reduction')\n",
    "#xlabel\n",
    "pltt.xlabel('Principal Component 1')\n",
    "#y label\n",
    "pltt.ylabel('Principal Component 2')\n",
    "#legend\n",
    "pltt.legend([neg,pos],[\"No Diabetes\", \"Have Diabetes\"])\n",
    "pltt.show()"
   ]
  },
  {
   "cell_type": "code",
   "execution_count": null,
   "metadata": {},
   "outputs": [],
   "source": []
  }
 ],
 "metadata": {
  "kernelspec": {
   "display_name": "Python 3",
   "language": "python",
   "name": "python3"
  },
  "language_info": {
   "codemirror_mode": {
    "name": "ipython",
    "version": 3
   },
   "file_extension": ".py",
   "mimetype": "text/x-python",
   "name": "python",
   "nbconvert_exporter": "python",
   "pygments_lexer": "ipython3",
   "version": "3.7.1"
  }
 },
 "nbformat": 4,
 "nbformat_minor": 2
}
